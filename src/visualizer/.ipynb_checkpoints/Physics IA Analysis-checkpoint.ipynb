{
 "cells": [
  {
   "cell_type": "code",
   "execution_count": 2,
   "metadata": {},
   "outputs": [],
   "source": [
    "import matplotlib.pyplot as plt\n",
    "import numpy as np\n",
    "import csv\n",
    "import time\n",
    "import scipy.stats\n",
    "from pylab import *\n",
    "from matplotlib import rcParams\n",
    "\n",
    "rcParams['text.usetex'] = True"
   ]
  },
  {
   "cell_type": "code",
   "execution_count": 9,
   "metadata": {},
   "outputs": [],
   "source": [
    "MASS_EXPECTED = 5.972e+24"
   ]
  },
  {
   "cell_type": "code",
   "execution_count": 4,
   "metadata": {},
   "outputs": [],
   "source": [
    "def read_csv(csv_file_path):\n",
    "  datas = []\n",
    "  with open(csv_file_path) as csv_file:\n",
    "    reader = csv.reader(csv_file, delimiter=',')\n",
    "    line_count = 0\n",
    "    for row in reader:\n",
    "      if line_count == 0:\n",
    "        line_count += 1\n",
    "        continue\n",
    "      else:\n",
    "          datas.append([float(k) for k in row])\n",
    "  return datas"
   ]
  },
  {
   "cell_type": "code",
   "execution_count": 5,
   "metadata": {},
   "outputs": [],
   "source": [
    "nmeo_data = read_csv(\"data/all_sat_nmeo_mode.csv\")"
   ]
  },
  {
   "cell_type": "code",
   "execution_count": 6,
   "metadata": {},
   "outputs": [],
   "source": [
    "meo_data = read_csv(\"data/nsim_nrepa_0.01.csv\")"
   ]
  },
  {
   "cell_type": "markdown",
   "metadata": {},
   "source": [
    "### Determining the mass of the Earth using the NMEO method"
   ]
  },
  {
   "cell_type": "code",
   "execution_count": 7,
   "metadata": {},
   "outputs": [],
   "source": [
    "nmeo_x = [a[0] for a in nmeo_data if True] # \n",
    "nmeo_y = [a[1] for a in nmeo_data]\n",
    "\n",
    "# trim\n",
    "\n",
    "nmeo_y = nmeo_y[:(len(nmeo_x))]"
   ]
  },
  {
   "cell_type": "markdown",
   "metadata": {},
   "source": [
    "<b>Graphical visualization</b>"
   ]
  },
  {
   "cell_type": "code",
   "execution_count": 8,
   "metadata": {},
   "outputs": [
    {
     "name": "stdout",
     "output_type": "stream",
     "text": [
      "4.764373294248291e-25 128146311.92524505 0.9747530153851504 0.0 2.150301785128409e-27\n"
     ]
    },
    {
     "data": {
      "image/png": "[encoded data removed]",
      "text/plain": [
       "<Figure size 432x288 with 1 Axes>"
      ]
     },
     "metadata": {
      "needs_background": "light"
     },
     "output_type": "display_data"
    }
   ],
   "source": [
    "slope, intercept, r_value, p_value, std_err = scipy.stats.linregress(nmeo_x, nmeo_y)\n",
    "\n",
    "nmeo_poly1d_fn = np.poly1d([slope, intercept])\n",
    "\n",
    "print(slope, intercept, r_value, p_value, std_err)\n",
    "\n",
    "plt.title(\"Kepler's 3rd law plot for satellite database\")\n",
    "plt.xlabel(\"$\\\\frac{4\\pi^2 r^3}{G}$\")\n",
    "plt.ylabel(\"$T^2$\")\n",
    "plt.text(0.83e+36, 0.45e+11, \"$R^2={}$\".format(round(r_value, 3)))\n",
    "plt.text(0.48e+36, 0.15e+11, \"$y=(4.764\\\\times10^{-25})x+(1.281\\\\times10^8)$\")\n",
    "plt.plot(nmeo_x, nmeo_y, 'kx', nmeo_x, nmeo_poly1d_fn(nmeo_x), '--k')\n",
    "plt.savefig(\"nmeo_kepler_fig.png\", dpi=300)"
   ]
  },
  {
   "cell_type": "code",
   "execution_count": 23,
   "metadata": {},
   "outputs": [],
   "source": [
    "nmeo_mass_estimate = 1 / (nmeo_regression_m)"
   ]
  },
  {
   "cell_type": "code",
   "execution_count": 40,
   "metadata": {},
   "outputs": [],
   "source": [
    "nmeo_mass_estimate_error = abs((nmeo_mass_estimate - MASS_EXPECTED) / MASS_EXPECTED) * 100.0"
   ]
  },
  {
   "cell_type": "markdown",
   "metadata": {},
   "source": [
    "### Determining the mass of the Earth using the MEO method"
   ]
  },
  {
   "cell_type": "code",
   "execution_count": 10,
   "metadata": {},
   "outputs": [],
   "source": [
    "meo_data = read_csv(\"data/nsim_nrepa_0.01.csv\")"
   ]
  },
  {
   "cell_type": "markdown",
   "metadata": {},
   "source": [
    "At this point, meo_data is a collection with each row *r* containing:\n",
    "* r[0]  = maximum tolerated eccentricity;\n",
    "* r[1]  = kep_mass_mean;\n",
    "* r[2]  = kep_mass_median;\n",
    "* r[3]  = kep_mass_std_dev;\n",
    "* r[4]  = kep_mass_std_dev_percent;\n",
    "* r[5]  = kep_percent_error_mean;\n",
    "* r[6]  = kep_percent_error_median;\n",
    "* r[7]  = sec_mean;\n",
    "* r[8]  = sec_median;\n",
    "* r[9]  = sec_std_dev;\n",
    "* r[10] = sec_percent_error_mean;\n",
    "* r[11] = sec_percent_error_median;\n",
    "* r[12] = sats_disqualified;\n",
    "* r[13] = sats_used"
   ]
  }
 ],
 "metadata": {
  "kernelspec": {
   "display_name": "Python 3",
   "language": "python",
   "name": "python3"
  },
  "language_info": {
   "codemirror_mode": {
    "name": "ipython",
    "version": 3
   },
   "file_extension": ".py",
   "mimetype": "text/x-python",
   "name": "python",
   "nbconvert_exporter": "python",
   "pygments_lexer": "ipython3",
   "version": "3.8.5"
  }
 },
 "nbformat": 4,
 "nbformat_minor": 4
}
